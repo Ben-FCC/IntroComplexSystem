{
 "cells": [
  {
   "cell_type": "code",
   "execution_count": 62,
   "id": "03154e52",
   "metadata": {},
   "outputs": [],
   "source": [
    "import matplotlib\n",
    "#matplotlib.use('TkAgg')\n",
    "from pylab import *\n",
    "import seaborn as sns"
   ]
  },
  {
   "cell_type": "markdown",
   "id": "1726cd42",
   "metadata": {},
   "source": [
    "# Q11.4"
   ]
  },
  {
   "cell_type": "code",
   "execution_count": 67,
   "id": "99000ed6",
   "metadata": {},
   "outputs": [],
   "source": [
    "n = 100 # size of space: n x n\n",
    "p = 0.1 # probability of initially panicky individuals\n",
    "\n",
    "def initialize():\n",
    "    global config, nextconfig\n",
    "    config = zeros([n, n])\n",
    "    for x in range(n):\n",
    "        for y in range(n):\n",
    "            for s in range(n_states-1):\n",
    "                if config[x, y] == 0:\n",
    "                    config[x, y] = s if random() < p else 0\n",
    "                else:\n",
    "                    continue\n",
    "                nextconfig = zeros([n, n])\n",
    "    \n",
    "def observe():\n",
    "    global config, nextconfig\n",
    "    cla()\n",
    "    imshow(config, vmin = 0, vmax = 1, cmap = 'Pastel1')\n",
    "    \n",
    "def stable():\n",
    "    if np.sum(nextconfig != config):\n",
    "        return False\n",
    "    else:\n",
    "        return True\n",
    "    \n",
    "def update():\n",
    "    global config, nextconfig\n",
    "    for x in range(n):\n",
    "        for y in range(n):\n",
    "            count = np.zeros(n_states)\n",
    "            for s in range(n_states):\n",
    "                for dx in [-r, 0, r]:\n",
    "                    for dy in [-r, 0, r]:\n",
    "                        if config[(x + dx) % n, (y + dy) % n] == s:\n",
    "                            count[s] += 1\n",
    "            nextconfig[x, y] = argmax(count)\n",
    "    config, nextconfig = nextconfig, config"
   ]
  },
  {
   "cell_type": "code",
   "execution_count": 73,
   "id": "a6fe1bc0",
   "metadata": {},
   "outputs": [],
   "source": [
    "initialize()\n",
    "observe()"
   ]
  },
  {
   "cell_type": "code",
   "execution_count": 71,
   "id": "9cee5f26",
   "metadata": {},
   "outputs": [],
   "source": [
    "r = 1\n",
    "p = 0.1\n",
    "n_states = 5\n",
    "initialize()\n",
    "while not stable():\n",
    "    update()\n",
    "    observe()\n",
    "    pause(1)"
   ]
  },
  {
   "cell_type": "code",
   "execution_count": 48,
   "id": "14dd2f9c",
   "metadata": {},
   "outputs": [],
   "source": [
    "r = 10\n",
    "initialize()\n",
    "while not stable():\n",
    "    update()\n",
    "    observe()\n",
    "    pause(1)"
   ]
  }
 ],
 "metadata": {
  "kernelspec": {
   "display_name": "Python 3 (ipykernel)",
   "language": "python",
   "name": "python3"
  },
  "language_info": {
   "codemirror_mode": {
    "name": "ipython",
    "version": 3
   },
   "file_extension": ".py",
   "mimetype": "text/x-python",
   "name": "python",
   "nbconvert_exporter": "python",
   "pygments_lexer": "ipython3",
   "version": "3.9.13"
  },
  "toc": {
   "base_numbering": 1,
   "nav_menu": {},
   "number_sections": true,
   "sideBar": true,
   "skip_h1_title": false,
   "title_cell": "Table of Contents",
   "title_sidebar": "Contents",
   "toc_cell": false,
   "toc_position": {},
   "toc_section_display": true,
   "toc_window_display": false
  }
 },
 "nbformat": 4,
 "nbformat_minor": 5
}
